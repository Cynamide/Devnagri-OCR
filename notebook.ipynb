{
 "cells": [
  {
   "cell_type": "code",
   "execution_count": null,
   "source": [
    "import tensorflow as tf\r\n",
    "from tensorflow.keras import datasets, layers, models\r\n",
    "import numpy as np\r\n",
    "import pandas as pd\r\n",
    "import matplotlib.pyplot as plt\r\n",
    "from tensorflow.keras.applications import MobileNetV2\r\n",
    "from PIL import Image\r\n",
    "import os\r\n",
    "from tensorflow.keras.preprocessing.image import ImageDataGenerator"
   ],
   "outputs": [],
   "metadata": {}
  },
  {
   "cell_type": "code",
   "execution_count": null,
   "source": [
    "train_images = ImageDataGenerator(rescale = 1./255,shear_range = 0.2,validation_split=0.2)\r\n",
    "test_images = ImageDataGenerator(rescale = 1./255)\r\n",
    "training_set = train_images.flow_from_directory('data/Train',target_size = (32, 32),batch_size=64,subset='training',class_mode = 'categorical',color_mode='grayscale')\r\n",
    "validation_set = train_images.flow_from_directory('data/Train',target_size = (32, 32),batch_size=64,subset='validation',class_mode = 'categorical',color_mode='grayscale')\r\n",
    "test_set = test_images.flow_from_directory('data/Test',target_size = (32, 32),batch_size=64,class_mode = 'categorical',color_mode='grayscale')"
   ],
   "outputs": [],
   "metadata": {}
  },
  {
   "cell_type": "code",
   "execution_count": null,
   "source": [
    "model = MobileNetV2(input_shape=(32,32,3),weights=None)\r\n",
    "model.compile(optimizer='Adam',loss='categorical_crossentropy',metrics=['accuracy'])\r\n"
   ],
   "outputs": [],
   "metadata": {}
  },
  {
   "cell_type": "code",
   "execution_count": null,
   "source": [
    "import datetime\r\n",
    "log_dir = \"logs/fit/\" + datetime.datetime.now().strftime(\"%Y%m%d-%H%M%S\")\r\n",
    "tensorboard_callback = tf.keras.callbacks.TensorBoard(log_dir=log_dir, histogram_freq=1)\r\n"
   ],
   "outputs": [],
   "metadata": {}
  },
  {
   "cell_type": "code",
   "execution_count": null,
   "source": [
    "history = model.fit(training_set,validation_data=validation_set,epochs=10,callbacks=[tensorboard_callback])"
   ],
   "outputs": [],
   "metadata": {}
  },
  {
   "cell_type": "code",
   "execution_count": null,
   "source": [
    "plt.plot(history.history['accuracy'], label='accuracy')\r\n",
    "plt.plot(history.history['val_accuracy'], label = 'val_accuracy')\r\n",
    "plt.xlabel('Epoch')\r\n",
    "plt.ylabel('Accuracy')\r\n",
    "plt.ylim([0, 1])\r\n",
    "plt.legend(loc='lower right')"
   ],
   "outputs": [],
   "metadata": {}
  },
  {
   "cell_type": "code",
   "execution_count": null,
   "source": [
    "plt.plot(history.history['loss'], label='loss')\r\n",
    "plt.plot(history.history['val_loss'], label = 'val_loss')\r\n",
    "plt.xlabel('Epoch')\r\n",
    "plt.ylabel('loss')\r\n",
    "plt.ylim([0, 1])\r\n",
    "plt.legend(loc='lower right')"
   ],
   "outputs": [],
   "metadata": {}
  },
  {
   "cell_type": "code",
   "execution_count": null,
   "source": [
    "test_loss, test_acc = model.evaluate(test_set)"
   ],
   "outputs": [],
   "metadata": {}
  },
  {
   "cell_type": "code",
   "execution_count": null,
   "source": [
    "model.save('model')"
   ],
   "outputs": [],
   "metadata": {}
  },
  {
   "cell_type": "code",
   "execution_count": null,
   "source": [],
   "outputs": [],
   "metadata": {}
  }
 ],
 "metadata": {
  "orig_nbformat": 4,
  "language_info": {
   "name": "python",
   "version": "3.9.5",
   "mimetype": "text/x-python",
   "codemirror_mode": {
    "name": "ipython",
    "version": 3
   },
   "pygments_lexer": "ipython3",
   "nbconvert_exporter": "python",
   "file_extension": ".py"
  },
  "kernelspec": {
   "name": "python3",
   "display_name": "Python 3.9.5 64-bit ('tf-gpu': conda)"
  },
  "interpreter": {
   "hash": "d6661c79e81cb527c99f5eca452554fb3cfe8b0c1e89b7541cf7c7744c304376"
  }
 },
 "nbformat": 4,
 "nbformat_minor": 2
}