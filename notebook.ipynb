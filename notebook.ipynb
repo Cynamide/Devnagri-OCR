{
 "cells": [
  {
   "cell_type": "code",
   "execution_count": 9,
   "source": [
    "import tensorflow as tf\n",
    "from tensorflow.keras import datasets, layers, models\n",
    "import numpy as np\n",
    "import pandas as pd\n",
    "import matplotlib.pyplot as plt\n",
    "from tensorflow.keras.applications import MobileNetV2\n",
    "from PIL import Image\n",
    "import os\n",
    "from tensorflow.keras.preprocessing.image import ImageDataGenerator"
   ],
   "outputs": [],
   "metadata": {}
  },
  {
   "cell_type": "code",
   "execution_count": 10,
   "source": [
    "train_images = ImageDataGenerator(rescale = 1./255,shear_range = 0.2,zoom_range = 0.2,horizontal_flip = True)\n",
    "test_images = ImageDataGenerator(rescale = 1./255)\n",
    "batch_size = 64\n",
    "training_set = train_images.flow_from_directory('data/Train',target_size = (32, 32),subset='training',batch_size = batch_size,class_mode = 'categorical')\n",
    "validation_set = train_images.flow_from_directory('data/Train',target_size = (32, 32),subset='validation',batch_size = batch_size,class_mode = 'categorical')\n",
    "test_set = test_images.flow_from_directory('data/Test',target_size = (32, 32),batch_size = batch_size, class_mode = 'categorical')"
   ],
   "outputs": [
    {
     "output_type": "stream",
     "name": "stdout",
     "text": [
      "Found 78200 images belonging to 46 classes.\n",
      "Found 0 images belonging to 46 classes.\n",
      "Found 13800 images belonging to 46 classes.\n"
     ]
    }
   ],
   "metadata": {}
  },
  {
   "cell_type": "code",
   "execution_count": 11,
   "source": [
    "type(training_set)"
   ],
   "outputs": [
    {
     "output_type": "execute_result",
     "data": {
      "text/plain": [
       "keras_preprocessing.image.directory_iterator.DirectoryIterator"
      ]
     },
     "metadata": {},
     "execution_count": 11
    }
   ],
   "metadata": {}
  },
  {
   "cell_type": "code",
   "execution_count": 12,
   "source": [
    "model = MobileNetV2()\n",
    "model.fit(training_set,validation_data=validation_set)"
   ],
   "outputs": [],
   "metadata": {}
  },
  {
   "cell_type": "code",
   "execution_count": null,
   "source": [],
   "outputs": [],
   "metadata": {}
  }
 ],
 "metadata": {
  "orig_nbformat": 4,
  "language_info": {
   "name": "python",
   "version": "3.8.5",
   "mimetype": "text/x-python",
   "codemirror_mode": {
    "name": "ipython",
    "version": 3
   },
   "pygments_lexer": "ipython3",
   "nbconvert_exporter": "python",
   "file_extension": ".py"
  },
  "kernelspec": {
   "name": "python3",
   "display_name": "Python 3.8.5 64-bit ('tf-gpu': conda)"
  },
  "interpreter": {
   "hash": "cca8452e2529a2bd83dee1fd0de12ffba9119b0f682deddf66e9e9eaed3ae11c"
  }
 },
 "nbformat": 4,
 "nbformat_minor": 2
}